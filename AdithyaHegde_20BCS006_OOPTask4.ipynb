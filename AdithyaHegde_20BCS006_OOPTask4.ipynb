{
  "nbformat": 4,
  "nbformat_minor": 0,
  "metadata": {
    "colab": {
      "name": "AdithyaHegde_20BCS006_OOPTask4.ipynb",
      "provenance": [],
      "authorship_tag": "ABX9TyM+Kl8ZUhwIq7o88kctrhMR",
      "include_colab_link": true
    },
    "kernelspec": {
      "name": "python3",
      "display_name": "Python 3"
    },
    "language_info": {
      "name": "python"
    }
  },
  "cells": [
    {
      "cell_type": "markdown",
      "metadata": {
        "id": "view-in-github",
        "colab_type": "text"
      },
      "source": [
        "<a href=\"https://colab.research.google.com/github/adithyaGHegde/OOP-Lab-Assignment-4/blob/main/AdithyaHegde_20BCS006_OOPTask4.ipynb\" target=\"_parent\"><img src=\"https://colab.research.google.com/assets/colab-badge.svg\" alt=\"Open In Colab\"/></a>"
      ]
    },
    {
      "cell_type": "markdown",
      "metadata": {
        "id": "JTiRCvOnjytN"
      },
      "source": [
        "OOP LAB 4\n",
        "1. Write a python code to create a class node with data and address of next node as\n",
        "parameters. Derive stack class from node class with top position or head node position as a\n",
        "parameter and also perform the following operations.\n",
        "\n",
        "  a. Check stack is empty\n",
        "\n",
        "  b. Add data to stack\n",
        "\n",
        "  c. Delete data from the stack.\n",
        "\n",
        "  d. Display the elements of the stack.\n",
        "\n",
        "  e. Deallocate the memory assigned to each node using destructors."
      ]
    },
    {
      "cell_type": "code",
      "metadata": {
        "colab": {
          "base_uri": "https://localhost:8080/"
        },
        "id": "mpiF9Fbfj2zw",
        "outputId": "509ca14a-60a5-4ba5-ea5e-bf834fec33d3"
      },
      "source": [
        "class Node:\n",
        "\n",
        "  def __init__(self,data):\n",
        "    self.data = data\n",
        "    self.next = None\n",
        "    print(\"Node created using constructor\")\n",
        "\n",
        "  def __del__(self):\n",
        "    print(\"Node deleted using destructor\")\n",
        "\n",
        "class Stack:\n",
        "\n",
        "  def __init__(self):\n",
        "    self.top = None\n",
        "\n",
        "  def isEmpty(self):\n",
        "    return (self.top==None) \n",
        "\n",
        "  def push(self,data):\n",
        "    if self.isEmpty():\n",
        "      self.top = Node(data)\n",
        "      print(\"Inserted\")\n",
        "    else:\n",
        "      newNode = Node(data)\n",
        "      newNode.next = self.top\n",
        "      self.top = newNode\n",
        "      print(\"Inserted\",self.top.data)\n",
        "\n",
        "  def pop(self):\n",
        "    if self.isEmpty():\n",
        "      return None\n",
        "    else:\n",
        "      deletedNode = self.top\n",
        "      self.top = self.top.next\n",
        "      deletedNode.next = None\n",
        "      return deletedNode.data\n",
        "\n",
        "  def display(self):\n",
        "    node = self.top\n",
        "    if self.isEmpty():\n",
        "      print(\"Stack empty\") \n",
        "    else:\n",
        "      while(node != None): \n",
        "        print(node.data,\" -> \",end=\"\")\n",
        "        node = node.next\n",
        "      return\n",
        "\n",
        "print(\"a.Check empty stack\")\n",
        "NewStack = Stack()\n",
        "print(NewStack.isEmpty())\n",
        "print(\"\\nb.Insert elements into stack\")\n",
        "NewStack.push(10)\n",
        "NewStack.push(11)\n",
        "NewStack.push(12)\n",
        "print(\"\\nc.Deleting element\")\n",
        "print(NewStack.pop(),\"has been popped\")\n",
        "print(\"\\nd.Displaying stack\")\n",
        "NewStack.display()\n",
        "print(\"\\ne.Delete rest of the nodes using destructor\")\n",
        "del NewStack"
      ],
      "execution_count": null,
      "outputs": [
        {
          "output_type": "stream",
          "name": "stdout",
          "text": [
            "a.Check empty stack\n",
            "True\n",
            "\n",
            "b.Insert elements into stack\n",
            "Node created using constructor\n",
            "Inserted\n",
            "Node created using constructor\n",
            "Inserted 11\n",
            "Node created using constructor\n",
            "Inserted 12\n",
            "\n",
            "c.Deleting element\n",
            "Node deleted using destructor\n",
            "12 has been popped\n",
            "\n",
            "d.Displaying stack\n",
            "11  -> 10  -> \n",
            "e.Delete rest of the nodes using destructor\n",
            "Node deleted using destructor\n",
            "Node deleted using destructor\n"
          ]
        }
      ]
    },
    {
      "cell_type": "markdown",
      "metadata": {
        "id": "8ceo3YAzHNNU"
      },
      "source": [
        "2. Write a python code to calculate the area of a rectangle using parametrized and default\n",
        "constructors."
      ]
    },
    {
      "cell_type": "code",
      "metadata": {
        "colab": {
          "base_uri": "https://localhost:8080/"
        },
        "id": "eAeR68_RItY8",
        "outputId": "eb629d3f-a319-4dd4-d8ed-0da7b0867fed"
      },
      "source": [
        "class Rectangle:\n",
        "  def __init__(self,length=20,breadth=30):\n",
        "    self.length = length\n",
        "    self.breadth = breadth\n",
        "\n",
        "  def area(self):\n",
        "    return self.length*self.breadth\n",
        "\n",
        "rectangle1 = Rectangle(10,20)\n",
        "print(\"Area with parameterized constructor is\",rectangle1.area())\n",
        "rectangle2 = Rectangle()\n",
        "print(\"Area with default constructor is\",rectangle2.area())"
      ],
      "execution_count": null,
      "outputs": [
        {
          "output_type": "stream",
          "name": "stdout",
          "text": [
            "Area with parameterized constructor is 200\n",
            "Area with default constructor is 600\n"
          ]
        }
      ]
    },
    {
      "cell_type": "markdown",
      "metadata": {
        "id": "Cr5C80jJLczR"
      },
      "source": [
        "3. Write a python program to implement queue operations using constructors and destructors."
      ]
    },
    {
      "cell_type": "code",
      "metadata": {
        "colab": {
          "base_uri": "https://localhost:8080/"
        },
        "id": "qJW6PwuoLeyn",
        "outputId": "414812e8-b0b7-4c85-94ba-0a1c0f5e02c6"
      },
      "source": [
        "class Node:\n",
        "  def __init__(self,data):\n",
        "    self.data = data\n",
        "    self.next = None\n",
        "    print(\"Node created using constructor\")\n",
        "\n",
        "  def __del__(self):\n",
        "    print(\"Node deleted using destructor\")\n",
        "\n",
        "class Queue:\n",
        "  def __init__(self):\n",
        "    self.front = None\n",
        "    self.rear = None\n",
        "\n",
        "  def enqueue(self,data):\n",
        "    if self.rear==None:\n",
        "      self.front = Node(data)\n",
        "      self.rear = self.front\n",
        "    else:\n",
        "      self.rear.next = Node(data)\n",
        "      self.rear = self.rear.next\n",
        "\n",
        "  def dequeue(self):\n",
        "    if self.front == None:\n",
        "      print(\"Queue empty\")\n",
        "    else:\n",
        "      print(self.front.data,\"dequed.\")\n",
        "      self.front=self.front.next\n",
        "\n",
        "  def display(self):\n",
        "    node = self.front\n",
        "    if self.rear==None:\n",
        "      print(\"Stack empty\") \n",
        "    else:\n",
        "      while(node != None): \n",
        "        print(node.data,\" -> \",end=\"\")\n",
        "        node = node.next\n",
        "      return\n",
        "\n",
        "newQueue = Queue()\n",
        "print(\"Insert elements into stack\")\n",
        "newQueue.enqueue(10)\n",
        "newQueue.enqueue(11)\n",
        "newQueue.enqueue(12)\n",
        "print(\"\\nc.Deleting element\")\n",
        "newQueue.dequeue()\n",
        "print(\"\\nd.Displaying stack\")\n",
        "newQueue.display()\n",
        "print(\"\\ne.Delete rest of the nodes using destructor\")\n",
        "del newQueue\n",
        "\n",
        " "
      ],
      "execution_count": null,
      "outputs": [
        {
          "output_type": "stream",
          "name": "stdout",
          "text": [
            "Insert elements into stack\n",
            "Node created using constructor\n",
            "Node created using constructor\n",
            "Node created using constructor\n",
            "\n",
            "c.Deleting element\n",
            "10 dequed.\n",
            "Node deleted using destructor\n",
            "\n",
            "d.Displaying stack\n",
            "11  -> 12  -> \n",
            "e.Delete rest of the nodes using destructor\n",
            "Node deleted using destructor\n",
            "Node deleted using destructor\n"
          ]
        }
      ]
    }
  ]
}